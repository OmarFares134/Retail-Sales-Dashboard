{
 "cells": [
  {
   "cell_type": "code",
   "execution_count": 29,
   "id": "af1f5ba2-72a4-46bd-8193-9bb20aa5b444",
   "metadata": {},
   "outputs": [],
   "source": [
    "# libraries\n",
    "import pandas as pd\n",
    "import plotly.express as px\n",
    "import matplotlib.pyplot as plt\n",
    "import seaborn as sns\n",
    "import plotly.io as pio"
   ]
  },
  {
   "cell_type": "code",
   "execution_count": 30,
   "id": "d0f8f9d2-b9cc-4501-9442-f3e97acb6f7b",
   "metadata": {},
   "outputs": [],
   "source": [
    "# load data\n",
    "df = pd.read_csv(r\"D:\\career\\data_analysis\\Era_Soft course\\Graduation Project\\Dataset\\retail_store_sales.csv\")"
   ]
  },
  {
   "cell_type": "markdown",
   "id": "3a612dc3-a64b-4337-ae66-a46d2235f6a1",
   "metadata": {},
   "source": [
    "## Initial Exploration\n",
    "___"
   ]
  },
  {
   "cell_type": "code",
   "execution_count": 31,
   "id": "94c02f4b-f304-468e-8ea6-be942884f6f2",
   "metadata": {},
   "outputs": [
    {
     "data": {
      "text/html": [
       "<div>\n",
       "<style scoped>\n",
       "    .dataframe tbody tr th:only-of-type {\n",
       "        vertical-align: middle;\n",
       "    }\n",
       "\n",
       "    .dataframe tbody tr th {\n",
       "        vertical-align: top;\n",
       "    }\n",
       "\n",
       "    .dataframe thead th {\n",
       "        text-align: right;\n",
       "    }\n",
       "</style>\n",
       "<table border=\"1\" class=\"dataframe\">\n",
       "  <thead>\n",
       "    <tr style=\"text-align: right;\">\n",
       "      <th></th>\n",
       "      <th>Transaction ID</th>\n",
       "      <th>Customer ID</th>\n",
       "      <th>Category</th>\n",
       "      <th>Item</th>\n",
       "      <th>Price Per Unit</th>\n",
       "      <th>Quantity</th>\n",
       "      <th>Total Spent</th>\n",
       "      <th>Payment Method</th>\n",
       "      <th>Location</th>\n",
       "      <th>Transaction Date</th>\n",
       "      <th>Discount Applied</th>\n",
       "    </tr>\n",
       "  </thead>\n",
       "  <tbody>\n",
       "    <tr>\n",
       "      <th>0</th>\n",
       "      <td>TXN_6867343</td>\n",
       "      <td>CUST_09</td>\n",
       "      <td>Patisserie</td>\n",
       "      <td>Item_10_PAT</td>\n",
       "      <td>18.5</td>\n",
       "      <td>10.0</td>\n",
       "      <td>185.0</td>\n",
       "      <td>Digital Wallet</td>\n",
       "      <td>Online</td>\n",
       "      <td>4/8/2024</td>\n",
       "      <td>True</td>\n",
       "    </tr>\n",
       "    <tr>\n",
       "      <th>1</th>\n",
       "      <td>TXN_3731986</td>\n",
       "      <td>CUST_22</td>\n",
       "      <td>Milk Products</td>\n",
       "      <td>Item_17_MILK</td>\n",
       "      <td>29.0</td>\n",
       "      <td>9.0</td>\n",
       "      <td>261.0</td>\n",
       "      <td>Digital Wallet</td>\n",
       "      <td>Online</td>\n",
       "      <td>7/23/2023</td>\n",
       "      <td>True</td>\n",
       "    </tr>\n",
       "    <tr>\n",
       "      <th>2</th>\n",
       "      <td>TXN_9303719</td>\n",
       "      <td>CUST_02</td>\n",
       "      <td>Butchers</td>\n",
       "      <td>Item_12_BUT</td>\n",
       "      <td>21.5</td>\n",
       "      <td>2.0</td>\n",
       "      <td>43.0</td>\n",
       "      <td>Credit Card</td>\n",
       "      <td>Online</td>\n",
       "      <td>10/5/2022</td>\n",
       "      <td>False</td>\n",
       "    </tr>\n",
       "    <tr>\n",
       "      <th>3</th>\n",
       "      <td>TXN_9458126</td>\n",
       "      <td>CUST_06</td>\n",
       "      <td>Beverages</td>\n",
       "      <td>Item_16_BEV</td>\n",
       "      <td>27.5</td>\n",
       "      <td>9.0</td>\n",
       "      <td>247.5</td>\n",
       "      <td>Credit Card</td>\n",
       "      <td>Online</td>\n",
       "      <td>5/7/2022</td>\n",
       "      <td>NaN</td>\n",
       "    </tr>\n",
       "    <tr>\n",
       "      <th>4</th>\n",
       "      <td>TXN_4575373</td>\n",
       "      <td>CUST_05</td>\n",
       "      <td>Food</td>\n",
       "      <td>Item_6_FOOD</td>\n",
       "      <td>12.5</td>\n",
       "      <td>7.0</td>\n",
       "      <td>87.5</td>\n",
       "      <td>Digital Wallet</td>\n",
       "      <td>Online</td>\n",
       "      <td>10/2/2022</td>\n",
       "      <td>False</td>\n",
       "    </tr>\n",
       "  </tbody>\n",
       "</table>\n",
       "</div>"
      ],
      "text/plain": [
       "  Transaction ID Customer ID       Category          Item  Price Per Unit  \\\n",
       "0    TXN_6867343     CUST_09     Patisserie   Item_10_PAT            18.5   \n",
       "1    TXN_3731986     CUST_22  Milk Products  Item_17_MILK            29.0   \n",
       "2    TXN_9303719     CUST_02       Butchers   Item_12_BUT            21.5   \n",
       "3    TXN_9458126     CUST_06      Beverages   Item_16_BEV            27.5   \n",
       "4    TXN_4575373     CUST_05           Food   Item_6_FOOD            12.5   \n",
       "\n",
       "   Quantity  Total Spent  Payment Method Location Transaction Date  \\\n",
       "0      10.0        185.0  Digital Wallet   Online         4/8/2024   \n",
       "1       9.0        261.0  Digital Wallet   Online        7/23/2023   \n",
       "2       2.0         43.0     Credit Card   Online        10/5/2022   \n",
       "3       9.0        247.5     Credit Card   Online         5/7/2022   \n",
       "4       7.0         87.5  Digital Wallet   Online        10/2/2022   \n",
       "\n",
       "  Discount Applied  \n",
       "0             True  \n",
       "1             True  \n",
       "2            False  \n",
       "3              NaN  \n",
       "4            False  "
      ]
     },
     "execution_count": 31,
     "metadata": {},
     "output_type": "execute_result"
    }
   ],
   "source": [
    "df.head()"
   ]
  },
  {
   "cell_type": "code",
   "execution_count": 32,
   "id": "1f18a339-bd67-48f1-9a89-81f2c2a72429",
   "metadata": {},
   "outputs": [
    {
     "name": "stdout",
     "output_type": "stream",
     "text": [
      "<class 'pandas.core.frame.DataFrame'>\n",
      "RangeIndex: 12575 entries, 0 to 12574\n",
      "Data columns (total 11 columns):\n",
      " #   Column            Non-Null Count  Dtype  \n",
      "---  ------            --------------  -----  \n",
      " 0   Transaction ID    12575 non-null  object \n",
      " 1   Customer ID       12575 non-null  object \n",
      " 2   Category          12575 non-null  object \n",
      " 3   Item              11362 non-null  object \n",
      " 4   Price Per Unit    11966 non-null  float64\n",
      " 5   Quantity          11971 non-null  float64\n",
      " 6   Total Spent       11971 non-null  float64\n",
      " 7   Payment Method    12575 non-null  object \n",
      " 8   Location          12575 non-null  object \n",
      " 9   Transaction Date  12575 non-null  object \n",
      " 10  Discount Applied  8376 non-null   object \n",
      "dtypes: float64(3), object(8)\n",
      "memory usage: 1.1+ MB\n"
     ]
    }
   ],
   "source": [
    "df.info()"
   ]
  },
  {
   "cell_type": "code",
   "execution_count": 33,
   "id": "93e72ad2-f016-4f30-8948-71c2efe2097d",
   "metadata": {},
   "outputs": [
    {
     "data": {
      "text/html": [
       "<div>\n",
       "<style scoped>\n",
       "    .dataframe tbody tr th:only-of-type {\n",
       "        vertical-align: middle;\n",
       "    }\n",
       "\n",
       "    .dataframe tbody tr th {\n",
       "        vertical-align: top;\n",
       "    }\n",
       "\n",
       "    .dataframe thead th {\n",
       "        text-align: right;\n",
       "    }\n",
       "</style>\n",
       "<table border=\"1\" class=\"dataframe\">\n",
       "  <thead>\n",
       "    <tr style=\"text-align: right;\">\n",
       "      <th></th>\n",
       "      <th>Price Per Unit</th>\n",
       "      <th>Quantity</th>\n",
       "      <th>Total Spent</th>\n",
       "    </tr>\n",
       "  </thead>\n",
       "  <tbody>\n",
       "    <tr>\n",
       "      <th>count</th>\n",
       "      <td>11966.000000</td>\n",
       "      <td>11971.000000</td>\n",
       "      <td>11971.000000</td>\n",
       "    </tr>\n",
       "    <tr>\n",
       "      <th>mean</th>\n",
       "      <td>23.365912</td>\n",
       "      <td>5.536380</td>\n",
       "      <td>129.652577</td>\n",
       "    </tr>\n",
       "    <tr>\n",
       "      <th>std</th>\n",
       "      <td>10.743519</td>\n",
       "      <td>2.857883</td>\n",
       "      <td>94.750697</td>\n",
       "    </tr>\n",
       "    <tr>\n",
       "      <th>min</th>\n",
       "      <td>5.000000</td>\n",
       "      <td>1.000000</td>\n",
       "      <td>5.000000</td>\n",
       "    </tr>\n",
       "    <tr>\n",
       "      <th>25%</th>\n",
       "      <td>14.000000</td>\n",
       "      <td>3.000000</td>\n",
       "      <td>51.000000</td>\n",
       "    </tr>\n",
       "    <tr>\n",
       "      <th>50%</th>\n",
       "      <td>23.000000</td>\n",
       "      <td>6.000000</td>\n",
       "      <td>108.500000</td>\n",
       "    </tr>\n",
       "    <tr>\n",
       "      <th>75%</th>\n",
       "      <td>33.500000</td>\n",
       "      <td>8.000000</td>\n",
       "      <td>192.000000</td>\n",
       "    </tr>\n",
       "    <tr>\n",
       "      <th>max</th>\n",
       "      <td>41.000000</td>\n",
       "      <td>10.000000</td>\n",
       "      <td>410.000000</td>\n",
       "    </tr>\n",
       "  </tbody>\n",
       "</table>\n",
       "</div>"
      ],
      "text/plain": [
       "       Price Per Unit      Quantity   Total Spent\n",
       "count    11966.000000  11971.000000  11971.000000\n",
       "mean        23.365912      5.536380    129.652577\n",
       "std         10.743519      2.857883     94.750697\n",
       "min          5.000000      1.000000      5.000000\n",
       "25%         14.000000      3.000000     51.000000\n",
       "50%         23.000000      6.000000    108.500000\n",
       "75%         33.500000      8.000000    192.000000\n",
       "max         41.000000     10.000000    410.000000"
      ]
     },
     "execution_count": 33,
     "metadata": {},
     "output_type": "execute_result"
    }
   ],
   "source": [
    "df.describe()"
   ]
  },
  {
   "cell_type": "code",
   "execution_count": 34,
   "id": "fff605e3-742c-42cb-a674-5000868310d7",
   "metadata": {},
   "outputs": [
    {
     "data": {
      "text/plain": [
       "Transaction ID         0\n",
       "Customer ID            0\n",
       "Category               0\n",
       "Item                1213\n",
       "Price Per Unit       609\n",
       "Quantity             604\n",
       "Total Spent          604\n",
       "Payment Method         0\n",
       "Location               0\n",
       "Transaction Date       0\n",
       "Discount Applied    4199\n",
       "dtype: int64"
      ]
     },
     "execution_count": 34,
     "metadata": {},
     "output_type": "execute_result"
    }
   ],
   "source": [
    "df.isnull().sum()"
   ]
  },
  {
   "cell_type": "code",
   "execution_count": 35,
   "id": "6e661d68-6e4e-4af2-a51e-7c2ddb63a546",
   "metadata": {},
   "outputs": [
    {
     "data": {
      "text/plain": [
       "Transaction ID       object\n",
       "Customer ID          object\n",
       "Category             object\n",
       "Item                 object\n",
       "Price Per Unit      float64\n",
       "Quantity            float64\n",
       "Total Spent         float64\n",
       "Payment Method       object\n",
       "Location             object\n",
       "Transaction Date     object\n",
       "Discount Applied     object\n",
       "dtype: object"
      ]
     },
     "execution_count": 35,
     "metadata": {},
     "output_type": "execute_result"
    }
   ],
   "source": [
    "df.dtypes"
   ]
  },
  {
   "cell_type": "code",
   "execution_count": 36,
   "id": "4a1fb247-49c3-45ca-a1ca-8cc84fc476e8",
   "metadata": {},
   "outputs": [
    {
     "data": {
      "text/plain": [
       "0"
      ]
     },
     "execution_count": 36,
     "metadata": {},
     "output_type": "execute_result"
    }
   ],
   "source": [
    "df.duplicated().sum()"
   ]
  },
  {
   "cell_type": "markdown",
   "id": "5c65270e-122c-4b8a-9147-318826df37e5",
   "metadata": {},
   "source": [
    "## During initial data exploration, I found:\n",
    "- ['Item', 'price per unite', 'Quantity', 'Total spend', 'Discount Applied'] Columns have Nulls\n",
    "- Incorrect data types for `transaction date`.\n",
    "- Zero Dublicated rows\n",
    "- Around 40% of the values in `Discount` column is null, I will handle it."
   ]
  },
  {
   "cell_type": "markdown",
   "id": "c2225b18-e82f-4524-9b16-25f70bdcc29e",
   "metadata": {},
   "source": [
    "## Data cleaning & Preparation\n",
    "---"
   ]
  },
  {
   "cell_type": "markdown",
   "id": "152048e6-985e-4623-b4e2-af997c947523",
   "metadata": {},
   "source": [
    "### Handling missing values:"
   ]
  },
  {
   "cell_type": "code",
   "execution_count": 38,
   "id": "cbc93d5d-e5da-4edd-8c1f-5b5efe0e4ee0",
   "metadata": {},
   "outputs": [],
   "source": [
    "pd.set_option('future.no_silent_downcasting', True)\n",
    "# Discount column(True if discount applied)\n",
    "df['Discount Applied'] = df['Discount Applied'].fillna((df['Price Per Unit'] * df['Quantity']) > df['Total Spent'])"
   ]
  },
  {
   "cell_type": "code",
   "execution_count": 39,
   "id": "fcb0c1a0-dbfe-4f49-a1b1-4b890892b2a9",
   "metadata": {},
   "outputs": [],
   "source": [
    "df['Item'] = df['Item'].fillna(df['Item'].mode()[0])\n",
    "df['Price Per Unit'] = df['Price Per Unit'].fillna(df['Price Per Unit'].mean())\n",
    "df['Quantity'] = df['Quantity'].fillna(df['Quantity'].median())\n",
    "df['Total Spent'] = df['Total Spent'].fillna(df['Total Spent'].mean())"
   ]
  },
  {
   "cell_type": "code",
   "execution_count": 40,
   "id": "4534260d-ee74-4ed8-9076-57d2351baaea",
   "metadata": {},
   "outputs": [
    {
     "data": {
      "text/plain": [
       "Transaction ID      0\n",
       "Customer ID         0\n",
       "Category            0\n",
       "Item                0\n",
       "Price Per Unit      0\n",
       "Quantity            0\n",
       "Total Spent         0\n",
       "Payment Method      0\n",
       "Location            0\n",
       "Transaction Date    0\n",
       "Discount Applied    0\n",
       "dtype: int64"
      ]
     },
     "execution_count": 40,
     "metadata": {},
     "output_type": "execute_result"
    }
   ],
   "source": [
    "#check\n",
    "df.isnull().sum()"
   ]
  },
  {
   "cell_type": "code",
   "execution_count": 41,
   "id": "ce13179e-2739-43a1-9479-65dc43b8fd31",
   "metadata": {},
   "outputs": [
    {
     "data": {
      "text/plain": [
       "Index(['transaction id', 'customer id', 'category', 'item', 'price per unit',\n",
       "       'quantity', 'total spent', 'payment method', 'location',\n",
       "       'transaction date', 'discount applied'],\n",
       "      dtype='object')"
      ]
     },
     "execution_count": 41,
     "metadata": {},
     "output_type": "execute_result"
    }
   ],
   "source": [
    "# Renaming colums with lower case letters to work faster.\n",
    "df.columns = df.columns.str.lower()\n",
    "# check\n",
    "df.columns"
   ]
  },
  {
   "cell_type": "code",
   "execution_count": 42,
   "id": "9bd6ded2-fb5a-4046-bcc3-ed2cd13543a0",
   "metadata": {},
   "outputs": [],
   "source": [
    "# Changing data types\n",
    "df['transaction date'] = pd.to_datetime(df['transaction date'])"
   ]
  },
  {
   "cell_type": "code",
   "execution_count": 43,
   "id": "11a58ea7-a3c0-46fd-a7a7-c46bcb6c4fa1",
   "metadata": {},
   "outputs": [
    {
     "data": {
      "text/plain": [
       "transaction id              object\n",
       "customer id                 object\n",
       "category                    object\n",
       "item                        object\n",
       "price per unit             float64\n",
       "quantity                   float64\n",
       "total spent                float64\n",
       "payment method              object\n",
       "location                    object\n",
       "transaction date    datetime64[ns]\n",
       "discount applied              bool\n",
       "dtype: object"
      ]
     },
     "execution_count": 43,
     "metadata": {},
     "output_type": "execute_result"
    }
   ],
   "source": [
    "# check\n",
    "df.dtypes"
   ]
  },
  {
   "cell_type": "markdown",
   "id": "6fedb3ec-a112-4c36-b573-429789f72f31",
   "metadata": {},
   "source": [
    "### Feature Engineering"
   ]
  },
  {
   "cell_type": "code",
   "execution_count": 44,
   "id": "38100fa5-5000-4258-bca0-a75ceb96bb6d",
   "metadata": {},
   "outputs": [
    {
     "data": {
      "text/html": [
       "<div>\n",
       "<style scoped>\n",
       "    .dataframe tbody tr th:only-of-type {\n",
       "        vertical-align: middle;\n",
       "    }\n",
       "\n",
       "    .dataframe tbody tr th {\n",
       "        vertical-align: top;\n",
       "    }\n",
       "\n",
       "    .dataframe thead th {\n",
       "        text-align: right;\n",
       "    }\n",
       "</style>\n",
       "<table border=\"1\" class=\"dataframe\">\n",
       "  <thead>\n",
       "    <tr style=\"text-align: right;\">\n",
       "      <th></th>\n",
       "      <th>transaction id</th>\n",
       "      <th>customer id</th>\n",
       "      <th>category</th>\n",
       "      <th>item</th>\n",
       "      <th>price per unit</th>\n",
       "      <th>quantity</th>\n",
       "      <th>total spent</th>\n",
       "      <th>payment method</th>\n",
       "      <th>location</th>\n",
       "      <th>transaction date</th>\n",
       "      <th>discount applied</th>\n",
       "      <th>day_of_week</th>\n",
       "    </tr>\n",
       "  </thead>\n",
       "  <tbody>\n",
       "    <tr>\n",
       "      <th>1679</th>\n",
       "      <td>TXN_3750711</td>\n",
       "      <td>CUST_17</td>\n",
       "      <td>Food</td>\n",
       "      <td>Item_20_FOOD</td>\n",
       "      <td>33.5</td>\n",
       "      <td>9.0</td>\n",
       "      <td>301.5</td>\n",
       "      <td>Cash</td>\n",
       "      <td>In-store</td>\n",
       "      <td>2022-06-30</td>\n",
       "      <td>False</td>\n",
       "      <td>Thursday</td>\n",
       "    </tr>\n",
       "  </tbody>\n",
       "</table>\n",
       "</div>"
      ],
      "text/plain": [
       "     transaction id customer id category          item  price per unit  \\\n",
       "1679    TXN_3750711     CUST_17     Food  Item_20_FOOD            33.5   \n",
       "\n",
       "      quantity  total spent payment method  location transaction date  \\\n",
       "1679       9.0        301.5           Cash  In-store       2022-06-30   \n",
       "\n",
       "      discount applied day_of_week  \n",
       "1679             False    Thursday  "
      ]
     },
     "execution_count": 44,
     "metadata": {},
     "output_type": "execute_result"
    }
   ],
   "source": [
    "# Day of week\n",
    "df['day_of_week'] = df['transaction date'].dt.day_name()\n",
    "# check \n",
    "df.sample()"
   ]
  },
  {
   "cell_type": "code",
   "execution_count": 46,
   "id": "edd16d03-3ca0-4819-92a1-e3c6523a3e39",
   "metadata": {},
   "outputs": [],
   "source": [
    "# Get season column\n",
    "season_map = {\n",
    "    12: \"Winter\", 1: \"Winter\", 2: \"Winter\",\n",
    "    3: \"Spring\", 4: \"Spring\", 5: \"Spring\",\n",
    "    6: \"Summer\", 7: \"Summer\", 8: \"Summer\",\n",
    "    9: \"Autumn\", 10: \"Autumn\", 11: \"Autumn\"\n",
    "}\n",
    "df['season'] = df['transaction date'].dt.month.map(season_map)"
   ]
  },
  {
   "cell_type": "code",
   "execution_count": 48,
   "id": "e5e3d0ab-f7ec-492e-9733-7429577086c9",
   "metadata": {},
   "outputs": [
    {
     "data": {
      "text/html": [
       "<div>\n",
       "<style scoped>\n",
       "    .dataframe tbody tr th:only-of-type {\n",
       "        vertical-align: middle;\n",
       "    }\n",
       "\n",
       "    .dataframe tbody tr th {\n",
       "        vertical-align: top;\n",
       "    }\n",
       "\n",
       "    .dataframe thead th {\n",
       "        text-align: right;\n",
       "    }\n",
       "</style>\n",
       "<table border=\"1\" class=\"dataframe\">\n",
       "  <thead>\n",
       "    <tr style=\"text-align: right;\">\n",
       "      <th></th>\n",
       "      <th>transaction id</th>\n",
       "      <th>customer id</th>\n",
       "      <th>category</th>\n",
       "      <th>item</th>\n",
       "      <th>price per unit</th>\n",
       "      <th>quantity</th>\n",
       "      <th>total spent</th>\n",
       "      <th>payment method</th>\n",
       "      <th>location</th>\n",
       "      <th>transaction date</th>\n",
       "      <th>discount applied</th>\n",
       "      <th>day_of_week</th>\n",
       "      <th>season</th>\n",
       "    </tr>\n",
       "  </thead>\n",
       "  <tbody>\n",
       "    <tr>\n",
       "      <th>252</th>\n",
       "      <td>TXN_8186195</td>\n",
       "      <td>CUST_20</td>\n",
       "      <td>Beverages</td>\n",
       "      <td>Item_8_BEV</td>\n",
       "      <td>15.5</td>\n",
       "      <td>5.0</td>\n",
       "      <td>77.5</td>\n",
       "      <td>Digital Wallet</td>\n",
       "      <td>Online</td>\n",
       "      <td>2023-02-19</td>\n",
       "      <td>True</td>\n",
       "      <td>Sunday</td>\n",
       "      <td>Winter</td>\n",
       "    </tr>\n",
       "    <tr>\n",
       "      <th>1203</th>\n",
       "      <td>TXN_5299299</td>\n",
       "      <td>CUST_18</td>\n",
       "      <td>Butchers</td>\n",
       "      <td>Item_2_BUT</td>\n",
       "      <td>6.5</td>\n",
       "      <td>6.0</td>\n",
       "      <td>39.0</td>\n",
       "      <td>Credit Card</td>\n",
       "      <td>In-store</td>\n",
       "      <td>2023-07-31</td>\n",
       "      <td>False</td>\n",
       "      <td>Monday</td>\n",
       "      <td>Summer</td>\n",
       "    </tr>\n",
       "    <tr>\n",
       "      <th>3942</th>\n",
       "      <td>TXN_2122383</td>\n",
       "      <td>CUST_23</td>\n",
       "      <td>Patisserie</td>\n",
       "      <td>Item_14_PAT</td>\n",
       "      <td>24.5</td>\n",
       "      <td>8.0</td>\n",
       "      <td>196.0</td>\n",
       "      <td>Digital Wallet</td>\n",
       "      <td>In-store</td>\n",
       "      <td>2023-10-07</td>\n",
       "      <td>False</td>\n",
       "      <td>Saturday</td>\n",
       "      <td>Autumn</td>\n",
       "    </tr>\n",
       "    <tr>\n",
       "      <th>9335</th>\n",
       "      <td>TXN_1962487</td>\n",
       "      <td>CUST_10</td>\n",
       "      <td>Milk Products</td>\n",
       "      <td>Item_15_MILK</td>\n",
       "      <td>26.0</td>\n",
       "      <td>3.0</td>\n",
       "      <td>78.0</td>\n",
       "      <td>Cash</td>\n",
       "      <td>In-store</td>\n",
       "      <td>2024-01-21</td>\n",
       "      <td>False</td>\n",
       "      <td>Sunday</td>\n",
       "      <td>Winter</td>\n",
       "    </tr>\n",
       "    <tr>\n",
       "      <th>755</th>\n",
       "      <td>TXN_5896151</td>\n",
       "      <td>CUST_21</td>\n",
       "      <td>Electric household essentials</td>\n",
       "      <td>Item_15_EHE</td>\n",
       "      <td>26.0</td>\n",
       "      <td>6.0</td>\n",
       "      <td>156.0</td>\n",
       "      <td>Digital Wallet</td>\n",
       "      <td>Online</td>\n",
       "      <td>2024-02-25</td>\n",
       "      <td>False</td>\n",
       "      <td>Sunday</td>\n",
       "      <td>Winter</td>\n",
       "    </tr>\n",
       "  </tbody>\n",
       "</table>\n",
       "</div>"
      ],
      "text/plain": [
       "     transaction id customer id                       category          item  \\\n",
       "252     TXN_8186195     CUST_20                      Beverages    Item_8_BEV   \n",
       "1203    TXN_5299299     CUST_18                       Butchers    Item_2_BUT   \n",
       "3942    TXN_2122383     CUST_23                     Patisserie   Item_14_PAT   \n",
       "9335    TXN_1962487     CUST_10                  Milk Products  Item_15_MILK   \n",
       "755     TXN_5896151     CUST_21  Electric household essentials   Item_15_EHE   \n",
       "\n",
       "      price per unit  quantity  total spent  payment method  location  \\\n",
       "252             15.5       5.0         77.5  Digital Wallet    Online   \n",
       "1203             6.5       6.0         39.0     Credit Card  In-store   \n",
       "3942            24.5       8.0        196.0  Digital Wallet  In-store   \n",
       "9335            26.0       3.0         78.0            Cash  In-store   \n",
       "755             26.0       6.0        156.0  Digital Wallet    Online   \n",
       "\n",
       "     transaction date  discount applied day_of_week  season  \n",
       "252        2023-02-19              True      Sunday  Winter  \n",
       "1203       2023-07-31             False      Monday  Summer  \n",
       "3942       2023-10-07             False    Saturday  Autumn  \n",
       "9335       2024-01-21             False      Sunday  Winter  \n",
       "755        2024-02-25             False      Sunday  Winter  "
      ]
     },
     "execution_count": 48,
     "metadata": {},
     "output_type": "execute_result"
    }
   ],
   "source": [
    "# check\n",
    "df.sample(5)"
   ]
  },
  {
   "cell_type": "code",
   "execution_count": 50,
   "id": "1634eb8b-49bd-44c2-890b-6d77961a5d94",
   "metadata": {},
   "outputs": [],
   "source": [
    "# Save cleaned data\n",
    "df.to_csv(\"cleaned_transactions.csv\", index=False)"
   ]
  },
  {
   "cell_type": "code",
   "execution_count": null,
   "id": "f170677d-8806-4262-a02e-b6f893f9dcb1",
   "metadata": {},
   "outputs": [],
   "source": []
  }
 ],
 "metadata": {
  "kernelspec": {
   "display_name": "Python [conda env:base] *",
   "language": "python",
   "name": "conda-base-py"
  },
  "language_info": {
   "codemirror_mode": {
    "name": "ipython",
    "version": 3
   },
   "file_extension": ".py",
   "mimetype": "text/x-python",
   "name": "python",
   "nbconvert_exporter": "python",
   "pygments_lexer": "ipython3",
   "version": "3.12.7"
  }
 },
 "nbformat": 4,
 "nbformat_minor": 5
}
